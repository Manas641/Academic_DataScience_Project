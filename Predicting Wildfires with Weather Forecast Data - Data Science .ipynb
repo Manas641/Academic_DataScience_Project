{
 "cells": [
  {
   "cell_type": "code",
   "execution_count": 1,
   "id": "3ad85948",
   "metadata": {},
   "outputs": [],
   "source": [
    "import numpy as np\n",
    "import pandas as pd\n",
    "import matplotlib.pyplot as plt\n",
    "pd.options.mode.chained_assignment = None"
   ]
  },
  {
   "cell_type": "markdown",
   "id": "5e2e1a94",
   "metadata": {},
   "source": [
    "## Collective Datasets"
   ]
  },
  {
   "cell_type": "code",
   "execution_count": 2,
   "id": "882027ca",
   "metadata": {},
   "outputs": [],
   "source": [
    "hist_wf = pd.read_csv(\"Historical_Wildfires.csv\")"
   ]
  },
  {
   "cell_type": "code",
   "execution_count": 3,
   "id": "6febefc7",
   "metadata": {},
   "outputs": [
    {
     "data": {
      "text/plain": [
       "array(['NSW', 'NT', 'QL', 'SA', 'TA', 'VI', 'WA'], dtype=object)"
      ]
     },
     "execution_count": 3,
     "metadata": {},
     "output_type": "execute_result"
    }
   ],
   "source": [
    "hist_wf['Region'].unique()"
   ]
  },
  {
   "cell_type": "code",
   "execution_count": 4,
   "id": "0465dd9c",
   "metadata": {},
   "outputs": [
    {
     "data": {
      "text/html": [
       "<div>\n",
       "<style scoped>\n",
       "    .dataframe tbody tr th:only-of-type {\n",
       "        vertical-align: middle;\n",
       "    }\n",
       "\n",
       "    .dataframe tbody tr th {\n",
       "        vertical-align: top;\n",
       "    }\n",
       "\n",
       "    .dataframe thead th {\n",
       "        text-align: right;\n",
       "    }\n",
       "</style>\n",
       "<table border=\"1\" class=\"dataframe\">\n",
       "  <thead>\n",
       "    <tr style=\"text-align: right;\">\n",
       "      <th></th>\n",
       "      <th>Region</th>\n",
       "      <th>Date</th>\n",
       "      <th>Estimated_fire_area</th>\n",
       "      <th>Mean_estimated_fire_brightness</th>\n",
       "      <th>Mean_estimated_fire_radiative_power</th>\n",
       "      <th>Mean_confidence</th>\n",
       "      <th>Std_confidence</th>\n",
       "      <th>Var_confidence</th>\n",
       "      <th>Count</th>\n",
       "      <th>Replaced</th>\n",
       "    </tr>\n",
       "  </thead>\n",
       "  <tbody>\n",
       "    <tr>\n",
       "      <th>0</th>\n",
       "      <td>NSW</td>\n",
       "      <td>1/4/2005</td>\n",
       "      <td>8.68000</td>\n",
       "      <td>312.266667</td>\n",
       "      <td>42.400000</td>\n",
       "      <td>78.666667</td>\n",
       "      <td>2.886751</td>\n",
       "      <td>8.333333</td>\n",
       "      <td>3</td>\n",
       "      <td>R</td>\n",
       "    </tr>\n",
       "    <tr>\n",
       "      <th>1</th>\n",
       "      <td>NSW</td>\n",
       "      <td>1/5/2005</td>\n",
       "      <td>16.61125</td>\n",
       "      <td>322.475000</td>\n",
       "      <td>62.362500</td>\n",
       "      <td>85.500000</td>\n",
       "      <td>8.088793</td>\n",
       "      <td>65.428571</td>\n",
       "      <td>8</td>\n",
       "      <td>R</td>\n",
       "    </tr>\n",
       "    <tr>\n",
       "      <th>2</th>\n",
       "      <td>NSW</td>\n",
       "      <td>1/6/2005</td>\n",
       "      <td>5.52000</td>\n",
       "      <td>325.266667</td>\n",
       "      <td>38.400000</td>\n",
       "      <td>78.333333</td>\n",
       "      <td>3.214550</td>\n",
       "      <td>10.333333</td>\n",
       "      <td>3</td>\n",
       "      <td>R</td>\n",
       "    </tr>\n",
       "    <tr>\n",
       "      <th>3</th>\n",
       "      <td>NSW</td>\n",
       "      <td>1/7/2005</td>\n",
       "      <td>6.26400</td>\n",
       "      <td>313.870000</td>\n",
       "      <td>33.800000</td>\n",
       "      <td>92.200000</td>\n",
       "      <td>7.529940</td>\n",
       "      <td>56.700000</td>\n",
       "      <td>5</td>\n",
       "      <td>R</td>\n",
       "    </tr>\n",
       "    <tr>\n",
       "      <th>4</th>\n",
       "      <td>NSW</td>\n",
       "      <td>1/8/2005</td>\n",
       "      <td>5.40000</td>\n",
       "      <td>337.383333</td>\n",
       "      <td>122.533333</td>\n",
       "      <td>91.000000</td>\n",
       "      <td>7.937254</td>\n",
       "      <td>63.000000</td>\n",
       "      <td>3</td>\n",
       "      <td>R</td>\n",
       "    </tr>\n",
       "  </tbody>\n",
       "</table>\n",
       "</div>"
      ],
      "text/plain": [
       "  Region      Date  Estimated_fire_area  Mean_estimated_fire_brightness  \\\n",
       "0    NSW  1/4/2005              8.68000                      312.266667   \n",
       "1    NSW  1/5/2005             16.61125                      322.475000   \n",
       "2    NSW  1/6/2005              5.52000                      325.266667   \n",
       "3    NSW  1/7/2005              6.26400                      313.870000   \n",
       "4    NSW  1/8/2005              5.40000                      337.383333   \n",
       "\n",
       "   Mean_estimated_fire_radiative_power  Mean_confidence  Std_confidence  \\\n",
       "0                            42.400000        78.666667        2.886751   \n",
       "1                            62.362500        85.500000        8.088793   \n",
       "2                            38.400000        78.333333        3.214550   \n",
       "3                            33.800000        92.200000        7.529940   \n",
       "4                           122.533333        91.000000        7.937254   \n",
       "\n",
       "   Var_confidence  Count Replaced  \n",
       "0        8.333333      3        R  \n",
       "1       65.428571      8        R  \n",
       "2       10.333333      3        R  \n",
       "3       56.700000      5        R  \n",
       "4       63.000000      3        R  "
      ]
     },
     "execution_count": 4,
     "metadata": {},
     "output_type": "execute_result"
    }
   ],
   "source": [
    "hist_wf.head()"
   ]
  },
  {
   "cell_type": "code",
   "execution_count": 24,
   "id": "5431ec68",
   "metadata": {},
   "outputs": [
    {
     "data": {
      "text/plain": [
       "Index(['Region', 'Date', 'Estimated_fire_area',\n",
       "       'Mean_estimated_fire_brightness', 'Mean_estimated_fire_radiative_power',\n",
       "       'Mean_confidence', 'Std_confidence', 'Var_confidence', 'Count',\n",
       "       'Replaced'],\n",
       "      dtype='object')"
      ]
     },
     "execution_count": 24,
     "metadata": {},
     "output_type": "execute_result"
    }
   ],
   "source": [
    "hist_wf.columns"
   ]
  },
  {
   "cell_type": "code",
   "execution_count": 6,
   "id": "fe02d902",
   "metadata": {},
   "outputs": [],
   "source": [
    "hist_w = pd.read_csv(\"HistoricalWeather.csv\")"
   ]
  },
  {
   "cell_type": "code",
   "execution_count": 48,
   "id": "8a336a1b",
   "metadata": {},
   "outputs": [
    {
     "data": {
      "text/plain": [
       "0       Precipitation\n",
       "1    RelativeHumidity\n",
       "2    SoilWaterContent\n",
       "3      SolarRadiation\n",
       "4         Temperature\n",
       "5           WindSpeed\n",
       "Name: Parameter, dtype: object"
      ]
     },
     "execution_count": 48,
     "metadata": {},
     "output_type": "execute_result"
    }
   ],
   "source": [
    "hist_w.iloc[:6]['Parameter']"
   ]
  },
  {
   "cell_type": "code",
   "execution_count": null,
   "id": "09335429",
   "metadata": {},
   "outputs": [],
   "source": [
    "hist_vi = pd.read_csv(\"VegetationIndex.csv\")"
   ]
  },
  {
   "cell_type": "code",
   "execution_count": null,
   "id": "b9840059",
   "metadata": {},
   "outputs": [],
   "source": [
    "land_class = pd.read_csv(\"LandClass.csv\")\n",
    "land_class"
   ]
  },
  {
   "cell_type": "code",
   "execution_count": null,
   "id": "32a63625",
   "metadata": {},
   "outputs": [],
   "source": [
    "land_class.columns"
   ]
  },
  {
   "cell_type": "markdown",
   "id": "22a03fdd",
   "metadata": {},
   "source": [
    "## Extracting Region NSW Data"
   ]
  },
  {
   "cell_type": "code",
   "execution_count": 9,
   "id": "79b1409f",
   "metadata": {},
   "outputs": [],
   "source": [
    "nsw_wf = hist_wf[hist_wf.Region == 'NSW']\n",
    "nsw_w = hist_w[hist_w.Region == 'NSW']\n",
    "\n",
    "nsw_weather = pd.DataFrame(columns = [\"Date\",\"Precipitation_max\",\"Precipitation_mean\",\"RelativeHumidity_max\",\"RelativeHumidity_mean\",\n",
    "                                     \"SoilWaterContent_max\",\"SoilWaterContent_mean\",\"SolarRadiation_max\",\"SolarRadiation_mean\",\n",
    "                                     \"Temperature_min\",\"Temperature_max\",\"Temperature_mean\",\"WindSpeed_min\",\"WindSpeed_max\",\n",
    "                                      \"WindSpeed_mean\"])\n",
    "\n",
    "nsw_weather[['Date',\"Precipitation_max\",\"Precipitation_mean\"]] = pd.DataFrame(np.array(nsw_w[nsw_w.Parameter == 'Precipitation'][['Date','max()','mean()']]))\n",
    "nsw_weather[[\"RelativeHumidity_max\",\"RelativeHumidity_mean\"]] = pd.DataFrame(np.array(nsw_w[nsw_w.Parameter == 'RelativeHumidity'][['max()','mean()']]))\n",
    "nsw_weather[[\"SoilWaterContent_max\",\"SoilWaterContent_mean\"]] = pd.DataFrame(np.array(nsw_w[nsw_w.Parameter == 'SoilWaterContent'][['max()','mean()']]))\n",
    "nsw_weather[[\"SolarRadiation_max\",\"SolarRadiation_mean\"]] = pd.DataFrame(np.array(nsw_w[nsw_w.Parameter == 'SolarRadiation'][['max()','mean()']]))\n",
    "nsw_weather[[\"Temperature_min\",\"Temperature_max\",\"Temperature_mean\"]] = pd.DataFrame(np.array(nsw_w[nsw_w.Parameter == 'Temperature'][['min()','max()','mean()']]))\n",
    "nsw_weather[[\"WindSpeed_min\",\"WindSpeed_max\",\"WindSpeed_mean\"]] = pd.DataFrame(np.array(nsw_w[nsw_w.Parameter == 'WindSpeed'][['min()','max()','mean()']]))\n",
    "nsw_weather.fillna(method = 'ffill',inplace = True)\n",
    "\n",
    "nsw_vi = hist_vi[hist_vi.Region == 'NSW']\n",
    "nsw_vi = nsw_vi[['Date','Vegetation_index_mean']]\n",
    "nsw_vi['Date'] = nsw_vi['Date'].apply(lambda x: pd.to_datetime(x))\n",
    "\n",
    "land_class[land_class.Region == 'NSW'].iloc[0,1:].values\n",
    "\n",
    "nsw = pd.DataFrame(columns = ['Date', 'Estimated_fire_area',\n",
    "       'Mean_estimated_fire_brightness', 'Mean_estimated_fire_radiative_power'])\n",
    "nsw[['Date', 'Estimated_fire_area',\n",
    "       'Mean_estimated_fire_brightness', 'Mean_estimated_fire_radiative_power']] = nsw_wf[['Date', 'Estimated_fire_area',\n",
    "       'Mean_estimated_fire_brightness', 'Mean_estimated_fire_radiative_power']]\n",
    "\n",
    "nsw[['Shrubs', 'Herbaceous vegetation',\n",
    "       'Cultivated and managed vegetation/agriculture (cropland)',\n",
    "       'Urban / built up', 'Bare / sparse vegetation',\n",
    "       'Permanent water bodies', 'Herbaceous wetland',\n",
    "       'Closed forest, evergreen, broad leaf',\n",
    "       'Closed forest, deciduous broad leaf', 'Closed forest, unknown',\n",
    "       'Open forest, evergreen broad leaf',\n",
    "       'Open forest, deciduous broad leaf', 'Open forest, unknown definitions',\n",
    "       'Open sea']] = land_class[land_class.Region == 'NSW'].iloc[0,1:].values\n",
    "\n",
    "nsw['Date'] = nsw['Date'].apply(lambda x: pd.to_datetime(x))\n",
    "nsw_weather['Date'] = nsw_weather['Date'].apply(lambda x: pd.to_datetime(x))\n",
    "nsw = pd.merge(nsw,nsw_weather,how = 'left',on = 'Date')\n",
    "nsw = pd.merge(nsw,nsw_vi,how = 'left',on = 'Date')\n",
    "\n",
    "nsw.fillna(method = 'ffill',inplace = True)\n",
    "nsw.fillna(method = 'bfill',inplace = True)\n",
    "\n",
    "nsw.to_csv(\"Region_NSW.csv\")"
   ]
  },
  {
   "cell_type": "code",
   "execution_count": 133,
   "id": "4c6e9b6c",
   "metadata": {},
   "outputs": [
    {
     "data": {
      "text/plain": [
       "(4655, (4655, 33))"
      ]
     },
     "execution_count": 133,
     "metadata": {},
     "output_type": "execute_result"
    }
   ],
   "source": [
    "nsw['Date'].nunique(),nsw.shape"
   ]
  },
  {
   "cell_type": "markdown",
   "id": "a93f36ab",
   "metadata": {},
   "source": [
    "## Extracting Region NT Data"
   ]
  },
  {
   "cell_type": "code",
   "execution_count": 116,
   "id": "0e726faf",
   "metadata": {},
   "outputs": [],
   "source": [
    "nt_wf = hist_wf[hist_wf.Region == 'NT']\n",
    "nt_w = hist_w[hist_w.Region == 'NT']\n",
    "\n",
    "nt_weather = pd.DataFrame(columns = [\"Date\",\"Precipitation_max\",\"Precipitation_mean\",\"RelativeHumidity_max\",\"RelativeHumidity_mean\",\n",
    "                                     \"SoilWaterContent_max\",\"SoilWaterContent_mean\",\"SolarRadiation_max\",\"SolarRadiation_mean\",\n",
    "                                     \"Temperature_min\",\"Temperature_max\",\"Temperature_mean\",\"WindSpeed_min\",\"WindSpeed_max\",\n",
    "                                      \"WindSpeed_mean\"])\n",
    "\n",
    "nt_weather[['Date',\"Precipitation_max\",\"Precipitation_mean\"]] = pd.DataFrame(np.array(nt_w[nt_w.Parameter == 'Precipitation'][['Date','max()','mean()']]))\n",
    "nt_weather[[\"RelativeHumidity_max\",\"RelativeHumidity_mean\"]] = pd.DataFrame(np.array(nt_w[nt_w.Parameter == 'RelativeHumidity'][['max()','mean()']]))\n",
    "nt_weather[[\"SoilWaterContent_max\",\"SoilWaterContent_mean\"]] = pd.DataFrame(np.array(nt_w[nt_w.Parameter == 'SoilWaterContent'][['max()','mean()']]))\n",
    "nt_weather[[\"SolarRadiation_max\",\"SolarRadiation_mean\"]] = pd.DataFrame(np.array(nt_w[nt_w.Parameter == 'SolarRadiation'][['max()','mean()']]))\n",
    "nt_weather[[\"Temperature_min\",\"Temperature_max\",\"Temperature_mean\"]] = pd.DataFrame(np.array(nt_w[nt_w.Parameter == 'Temperature'][['min()','max()','mean()']]))\n",
    "nt_weather[[\"WindSpeed_min\",\"WindSpeed_max\",\"WindSpeed_mean\"]] = pd.DataFrame(np.array(nt_w[nt_w.Parameter == 'WindSpeed'][['min()','max()','mean()']]))\n",
    "nt_weather.fillna(method = 'ffill',inplace = True)\n",
    "\n",
    "nt_vi = hist_vi[hist_vi.Region == 'NT']\n",
    "nt_vi = nt_vi[['Date','Vegetation_index_mean']]\n",
    "nt_vi['Date'] = nt_vi['Date'].apply(lambda x: pd.to_datetime(x))\n",
    "\n",
    "land_class[land_class.Region == 'NT'].iloc[0,1:].values\n",
    "\n",
    "nt = pd.DataFrame(columns = ['Date', 'Estimated_fire_area',\n",
    "       'Mean_estimated_fire_brightness', 'Mean_estimated_fire_radiative_power'])\n",
    "nt[['Date', 'Estimated_fire_area',\n",
    "       'Mean_estimated_fire_brightness', 'Mean_estimated_fire_radiative_power']] = nt_wf[['Date', 'Estimated_fire_area',\n",
    "       'Mean_estimated_fire_brightness', 'Mean_estimated_fire_radiative_power']]\n",
    "\n",
    "nt[['Shrubs', 'Herbaceous vegetation',\n",
    "       'Cultivated and managed vegetation/agriculture (cropland)',\n",
    "       'Urban / built up', 'Bare / sparse vegetation',\n",
    "       'Permanent water bodies', 'Herbaceous wetland',\n",
    "       'Closed forest, evergreen, broad leaf',\n",
    "       'Closed forest, deciduous broad leaf', 'Closed forest, unknown',\n",
    "       'Open forest, evergreen broad leaf',\n",
    "       'Open forest, deciduous broad leaf', 'Open forest, unknown definitions',\n",
    "       'Open sea']] = land_class[land_class.Region == 'NT'].iloc[0,1:].values\n",
    "\n",
    "nt['Date'] = nt['Date'].apply(lambda x: pd.to_datetime(x))\n",
    "nt_weather['Date'] = nt_weather['Date'].apply(lambda x: pd.to_datetime(x))\n",
    "nt = pd.merge(nt,nt_weather,how = 'left',on = 'Date')\n",
    "nt = pd.merge(nt,nt_vi,how = 'left',on = 'Date')\n",
    "\n",
    "nt.fillna(method = 'ffill',inplace = True)\n",
    "nt.fillna(method = 'bfill',inplace = True)\n",
    "\n",
    "nt.to_csv(\"Region_NT.csv\")"
   ]
  },
  {
   "cell_type": "code",
   "execution_count": 134,
   "id": "09ed4f97",
   "metadata": {},
   "outputs": [
    {
     "data": {
      "text/plain": [
       "(5096, (5096, 33))"
      ]
     },
     "execution_count": 134,
     "metadata": {},
     "output_type": "execute_result"
    }
   ],
   "source": [
    "nt['Date'].nunique(),nt.shape"
   ]
  },
  {
   "cell_type": "markdown",
   "id": "db6c9515",
   "metadata": {},
   "source": [
    "## Extracting Region QL Data"
   ]
  },
  {
   "cell_type": "code",
   "execution_count": 118,
   "id": "b2c23afe",
   "metadata": {},
   "outputs": [],
   "source": [
    "ql_wf = hist_wf[hist_wf.Region == 'QL']\n",
    "ql_w = hist_w[hist_w.Region == 'QL']\n",
    "\n",
    "ql_weather = pd.DataFrame(columns = [\"Date\",\"Precipitation_max\",\"Precipitation_mean\",\"RelativeHumidity_max\",\"RelativeHumidity_mean\",\n",
    "                                     \"SoilWaterContent_max\",\"SoilWaterContent_mean\",\"SolarRadiation_max\",\"SolarRadiation_mean\",\n",
    "                                     \"Temperature_min\",\"Temperature_max\",\"Temperature_mean\",\"WindSpeed_min\",\"WindSpeed_max\",\n",
    "                                      \"WindSpeed_mean\"])\n",
    "\n",
    "ql_weather[['Date',\"Precipitation_max\",\"Precipitation_mean\"]] = pd.DataFrame(np.array(ql_w[ql_w.Parameter == 'Precipitation'][['Date','max()','mean()']]))\n",
    "ql_weather[[\"RelativeHumidity_max\",\"RelativeHumidity_mean\"]] = pd.DataFrame(np.array(ql_w[ql_w.Parameter == 'RelativeHumidity'][['max()','mean()']]))\n",
    "ql_weather[[\"SoilWaterContent_max\",\"SoilWaterContent_mean\"]] = pd.DataFrame(np.array(ql_w[ql_w.Parameter == 'SoilWaterContent'][['max()','mean()']]))\n",
    "ql_weather[[\"SolarRadiation_max\",\"SolarRadiation_mean\"]] = pd.DataFrame(np.array(ql_w[ql_w.Parameter == 'SolarRadiation'][['max()','mean()']]))\n",
    "ql_weather[[\"Temperature_min\",\"Temperature_max\",\"Temperature_mean\"]] = pd.DataFrame(np.array(ql_w[ql_w.Parameter == 'Temperature'][['min()','max()','mean()']]))\n",
    "ql_weather[[\"WindSpeed_min\",\"WindSpeed_max\",\"WindSpeed_mean\"]] = pd.DataFrame(np.array(ql_w[ql_w.Parameter == 'WindSpeed'][['min()','max()','mean()']]))\n",
    "ql_weather.fillna(method = 'ffill',inplace = True)\n",
    "\n",
    "ql_vi = hist_vi[hist_vi.Region == 'QL']\n",
    "ql_vi = ql_vi[['Date','Vegetation_index_mean']]\n",
    "ql_vi['Date'] = ql_vi['Date'].apply(lambda x: pd.to_datetime(x))\n",
    "\n",
    "land_class[land_class.Region == 'QL'].iloc[0,1:].values\n",
    "\n",
    "ql = pd.DataFrame(columns = ['Date', 'Estimated_fire_area',\n",
    "       'Mean_estimated_fire_brightness', 'Mean_estimated_fire_radiative_power'])\n",
    "ql[['Date', 'Estimated_fire_area',\n",
    "       'Mean_estimated_fire_brightness', 'Mean_estimated_fire_radiative_power']] = ql_wf[['Date', 'Estimated_fire_area',\n",
    "       'Mean_estimated_fire_brightness', 'Mean_estimated_fire_radiative_power']]\n",
    "\n",
    "ql[['Shrubs', 'Herbaceous vegetation',\n",
    "       'Cultivated and managed vegetation/agriculture (cropland)',\n",
    "       'Urban / built up', 'Bare / sparse vegetation',\n",
    "       'Permanent water bodies', 'Herbaceous wetland',\n",
    "       'Closed forest, evergreen, broad leaf',\n",
    "       'Closed forest, deciduous broad leaf', 'Closed forest, unknown',\n",
    "       'Open forest, evergreen broad leaf',\n",
    "       'Open forest, deciduous broad leaf', 'Open forest, unknown definitions',\n",
    "       'Open sea']] = land_class[land_class.Region == 'QL'].iloc[0,1:].values\n",
    "\n",
    "ql['Date'] = ql['Date'].apply(lambda x: pd.to_datetime(x))\n",
    "ql_weather['Date'] = ql_weather['Date'].apply(lambda x: pd.to_datetime(x))\n",
    "ql = pd.merge(ql,ql_weather,how = 'left',on = 'Date')\n",
    "ql = pd.merge(ql,ql_vi,how = 'left',on = 'Date')\n",
    "\n",
    "ql.fillna(method = 'ffill',inplace = True)\n",
    "ql.fillna(method = 'bfill',inplace = True)\n",
    "\n",
    "ql.to_csv(\"Region_QL.csv\")"
   ]
  },
  {
   "cell_type": "code",
   "execution_count": 135,
   "id": "ccaac1d9",
   "metadata": {},
   "outputs": [
    {
     "data": {
      "text/plain": [
       "(5600, (5600, 33))"
      ]
     },
     "execution_count": 135,
     "metadata": {},
     "output_type": "execute_result"
    }
   ],
   "source": [
    "ql['Date'].nunique(),ql.shape"
   ]
  },
  {
   "cell_type": "markdown",
   "id": "a58f693e",
   "metadata": {},
   "source": [
    "## Extracting Region SA Data"
   ]
  },
  {
   "cell_type": "code",
   "execution_count": 121,
   "id": "35571e2a",
   "metadata": {},
   "outputs": [],
   "source": [
    "sa_wf = hist_wf[hist_wf.Region == 'SA']\n",
    "sa_w = hist_w[hist_w.Region == 'SA']\n",
    "\n",
    "sa_weather = pd.DataFrame(columns = [\"Date\",\"Precipitation_max\",\"Precipitation_mean\",\"RelativeHumidity_max\",\"RelativeHumidity_mean\",\n",
    "                                     \"SoilWaterContent_max\",\"SoilWaterContent_mean\",\"SolarRadiation_max\",\"SolarRadiation_mean\",\n",
    "                                     \"Temperature_min\",\"Temperature_max\",\"Temperature_mean\",\"WindSpeed_min\",\"WindSpeed_max\",\n",
    "                                      \"WindSpeed_mean\"])\n",
    "\n",
    "sa_weather[['Date',\"Precipitation_max\",\"Precipitation_mean\"]] = pd.DataFrame(np.array(sa_w[sa_w.Parameter == 'Precipitation'][['Date','max()','mean()']]))\n",
    "sa_weather[[\"RelativeHumidity_max\",\"RelativeHumidity_mean\"]] = pd.DataFrame(np.array(sa_w[sa_w.Parameter == 'RelativeHumidity'][['max()','mean()']]))\n",
    "sa_weather[[\"SoilWaterContent_max\",\"SoilWaterContent_mean\"]] = pd.DataFrame(np.array(sa_w[sa_w.Parameter == 'SoilWaterContent'][['max()','mean()']]))\n",
    "sa_weather[[\"SolarRadiation_max\",\"SolarRadiation_mean\"]] = pd.DataFrame(np.array(sa_w[sa_w.Parameter == 'SolarRadiation'][['max()','mean()']]))\n",
    "sa_weather[[\"Temperature_min\",\"Temperature_max\",\"Temperature_mean\"]] = pd.DataFrame(np.array(sa_w[sa_w.Parameter == 'Temperature'][['min()','max()','mean()']]))\n",
    "sa_weather[[\"WindSpeed_min\",\"WindSpeed_max\",\"WindSpeed_mean\"]] = pd.DataFrame(np.array(sa_w[sa_w.Parameter == 'WindSpeed'][['min()','max()','mean()']]))\n",
    "sa_weather.fillna(method = 'ffill',inplace = True)\n",
    "\n",
    "sa_vi = hist_vi[hist_vi.Region == 'SA']\n",
    "sa_vi = sa_vi[['Date','Vegetation_index_mean']]\n",
    "sa_vi['Date'] = sa_vi['Date'].apply(lambda x: pd.to_datetime(x))\n",
    "\n",
    "land_class[land_class.Region == 'SA'].iloc[0,1:].values\n",
    "\n",
    "sa = pd.DataFrame(columns = ['Date', 'Estimated_fire_area',\n",
    "       'Mean_estimated_fire_brightness', 'Mean_estimated_fire_radiative_power'])\n",
    "sa[['Date', 'Estimated_fire_area',\n",
    "       'Mean_estimated_fire_brightness', 'Mean_estimated_fire_radiative_power']] = sa_wf[['Date', 'Estimated_fire_area',\n",
    "       'Mean_estimated_fire_brightness', 'Mean_estimated_fire_radiative_power']]\n",
    "\n",
    "sa[['Shrubs', 'Herbaceous vegetation',\n",
    "       'Cultivated and managed vegetation/agriculture (cropland)',\n",
    "       'Urban / built up', 'Bare / sparse vegetation',\n",
    "       'Permanent water bodies', 'Herbaceous wetland',\n",
    "       'Closed forest, evergreen, broad leaf',\n",
    "       'Closed forest, deciduous broad leaf', 'Closed forest, unknown',\n",
    "       'Open forest, evergreen broad leaf',\n",
    "       'Open forest, deciduous broad leaf', 'Open forest, unknown definitions',\n",
    "       'Open sea']] = land_class[land_class.Region == 'SA'].iloc[0,1:].values\n",
    "\n",
    "sa['Date'] = sa['Date'].apply(lambda x: pd.to_datetime(x))\n",
    "sa_weather['Date'] = sa_weather['Date'].apply(lambda x: pd.to_datetime(x))\n",
    "sa = pd.merge(sa,sa_weather,how = 'left',on = 'Date')\n",
    "sa = pd.merge(sa,sa_vi,how = 'left',on = 'Date')\n",
    "\n",
    "sa.fillna(method = 'ffill',inplace = True)\n",
    "sa.fillna(method = 'bfill',inplace = True)\n",
    "\n",
    "sa.to_csv(\"Region_SA.csv\")"
   ]
  },
  {
   "cell_type": "code",
   "execution_count": 136,
   "id": "7758c8a2",
   "metadata": {},
   "outputs": [
    {
     "data": {
      "text/plain": [
       "(2012, (2012, 33))"
      ]
     },
     "execution_count": 136,
     "metadata": {},
     "output_type": "execute_result"
    }
   ],
   "source": [
    "sa['Date'].nunique(),sa.shape"
   ]
  },
  {
   "cell_type": "markdown",
   "id": "03d3272e",
   "metadata": {},
   "source": [
    "## Extracting Region TA Data"
   ]
  },
  {
   "cell_type": "code",
   "execution_count": 125,
   "id": "94cb0dd7",
   "metadata": {},
   "outputs": [],
   "source": [
    "ta_wf = hist_wf[hist_wf.Region == 'TA']\n",
    "ta_w = hist_w[hist_w.Region == 'TA']\n",
    "\n",
    "ta_weather = pd.DataFrame(columns = [\"Date\",\"Precipitation_max\",\"Precipitation_mean\",\"RelativeHumidity_max\",\"RelativeHumidity_mean\",\n",
    "                                     \"SoilWaterContent_max\",\"SoilWaterContent_mean\",\"SolarRadiation_max\",\"SolarRadiation_mean\",\n",
    "                                     \"Temperature_min\",\"Temperature_max\",\"Temperature_mean\",\"WindSpeed_min\",\"WindSpeed_max\",\n",
    "                                      \"WindSpeed_mean\"])\n",
    "\n",
    "ta_weather[['Date',\"Precipitation_max\",\"Precipitation_mean\"]] = pd.DataFrame(np.array(ta_w[ta_w.Parameter == 'Precipitation'][['Date','max()','mean()']]))\n",
    "ta_weather[[\"RelativeHumidity_max\",\"RelativeHumidity_mean\"]] = pd.DataFrame(np.array(ta_w[ta_w.Parameter == 'RelativeHumidity'][['max()','mean()']]))\n",
    "ta_weather[[\"SoilWaterContent_max\",\"SoilWaterContent_mean\"]] = pd.DataFrame(np.array(ta_w[ta_w.Parameter == 'SoilWaterContent'][['max()','mean()']]))\n",
    "ta_weather[[\"SolarRadiation_max\",\"SolarRadiation_mean\"]] = pd.DataFrame(np.array(ta_w[ta_w.Parameter == 'SolarRadiation'][['max()','mean()']]))\n",
    "ta_weather[[\"Temperature_min\",\"Temperature_max\",\"Temperature_mean\"]] = pd.DataFrame(np.array(ta_w[ta_w.Parameter == 'Temperature'][['min()','max()','mean()']]))\n",
    "ta_weather[[\"WindSpeed_min\",\"WindSpeed_max\",\"WindSpeed_mean\"]] = pd.DataFrame(np.array(ta_w[ta_w.Parameter == 'WindSpeed'][['min()','max()','mean()']]))\n",
    "ta_weather.fillna(method = 'ffill',inplace = True)\n",
    "\n",
    "ta_vi = hist_vi[hist_vi.Region == 'TA']\n",
    "ta_vi = ta_vi[['Date','Vegetation_index_mean']]\n",
    "ta_vi['Date'] = ta_vi['Date'].apply(lambda x: pd.to_datetime(x))\n",
    "\n",
    "land_class[land_class.Region == 'TA'].iloc[0,1:].values\n",
    "\n",
    "ta = pd.DataFrame(columns = ['Date', 'Estimated_fire_area',\n",
    "       'Mean_estimated_fire_brightness', 'Mean_estimated_fire_radiative_power'])\n",
    "ta[['Date', 'Estimated_fire_area',\n",
    "       'Mean_estimated_fire_brightness', 'Mean_estimated_fire_radiative_power']] = ta_wf[['Date', 'Estimated_fire_area',\n",
    "       'Mean_estimated_fire_brightness', 'Mean_estimated_fire_radiative_power']]\n",
    "\n",
    "ta[['Shrubs', 'Herbaceous vegetation',\n",
    "       'Cultivated and managed vegetation/agriculture (cropland)',\n",
    "       'Urban / built up', 'Bare / sparse vegetation',\n",
    "       'Permanent water bodies', 'Herbaceous wetland',\n",
    "       'Closed forest, evergreen, broad leaf',\n",
    "       'Closed forest, deciduous broad leaf', 'Closed forest, unknown',\n",
    "       'Open forest, evergreen broad leaf',\n",
    "       'Open forest, deciduous broad leaf', 'Open forest, unknown definitions',\n",
    "       'Open sea']] = land_class[land_class.Region == 'TA'].iloc[0,1:].values\n",
    "\n",
    "ta['Date'] = ta['Date'].apply(lambda x: pd.to_datetime(x))\n",
    "ta_weather['Date'] = ta_weather['Date'].apply(lambda x: pd.to_datetime(x))\n",
    "ta = pd.merge(ta,ta_weather,how = 'left',on = 'Date')\n",
    "ta = pd.merge(ta,ta_vi,how = 'left',on = 'Date')\n",
    "\n",
    "ta.fillna(method = 'ffill',inplace = True)\n",
    "ta.fillna(method = 'bfill',inplace = True)\n",
    "\n",
    "ta.to_csv(\"Region_TA.csv\")"
   ]
  },
  {
   "cell_type": "code",
   "execution_count": 137,
   "id": "4af96f1e",
   "metadata": {},
   "outputs": [
    {
     "data": {
      "text/plain": [
       "(1418, (1418, 33))"
      ]
     },
     "execution_count": 137,
     "metadata": {},
     "output_type": "execute_result"
    }
   ],
   "source": [
    "ta['Date'].nunique(),ta.shape"
   ]
  },
  {
   "cell_type": "markdown",
   "id": "8879848d",
   "metadata": {},
   "source": [
    "## Extracting Region VI Data"
   ]
  },
  {
   "cell_type": "code",
   "execution_count": 127,
   "id": "c1d62acc",
   "metadata": {},
   "outputs": [],
   "source": [
    "vi_wf = hist_wf[hist_wf.Region == 'VI']\n",
    "vi_w = hist_w[hist_w.Region == 'VI']\n",
    "\n",
    "vi_weather = pd.DataFrame(columns = [\"Date\",\"Precipitation_max\",\"Precipitation_mean\",\"RelativeHumidity_max\",\"RelativeHumidity_mean\",\n",
    "                                     \"SoilWaterContent_max\",\"SoilWaterContent_mean\",\"SolarRadiation_max\",\"SolarRadiation_mean\",\n",
    "                                     \"Temperature_min\",\"Temperature_max\",\"Temperature_mean\",\"WindSpeed_min\",\"WindSpeed_max\",\n",
    "                                      \"WindSpeed_mean\"])\n",
    "\n",
    "vi_weather[['Date',\"Precipitation_max\",\"Precipitation_mean\"]] = pd.DataFrame(np.array(vi_w[vi_w.Parameter == 'Precipitation'][['Date','max()','mean()']]))\n",
    "vi_weather[[\"RelativeHumidity_max\",\"RelativeHumidity_mean\"]] = pd.DataFrame(np.array(vi_w[vi_w.Parameter == 'RelativeHumidity'][['max()','mean()']]))\n",
    "vi_weather[[\"SoilWaterContent_max\",\"SoilWaterContent_mean\"]] = pd.DataFrame(np.array(vi_w[vi_w.Parameter == 'SoilWaterContent'][['max()','mean()']]))\n",
    "vi_weather[[\"SolarRadiation_max\",\"SolarRadiation_mean\"]] = pd.DataFrame(np.array(vi_w[vi_w.Parameter == 'SolarRadiation'][['max()','mean()']]))\n",
    "vi_weather[[\"Temperature_min\",\"Temperature_max\",\"Temperature_mean\"]] = pd.DataFrame(np.array(vi_w[vi_w.Parameter == 'Temperature'][['min()','max()','mean()']]))\n",
    "vi_weather[[\"WindSpeed_min\",\"WindSpeed_max\",\"WindSpeed_mean\"]] = pd.DataFrame(np.array(vi_w[vi_w.Parameter == 'WindSpeed'][['min()','max()','mean()']]))\n",
    "vi_weather.fillna(method = 'ffill',inplace = True)\n",
    "\n",
    "vi_vi = hist_vi[hist_vi.Region == 'VI']\n",
    "vi_vi = vi_vi[['Date','Vegetation_index_mean']]\n",
    "vi_vi['Date'] = vi_vi['Date'].apply(lambda x: pd.to_datetime(x))\n",
    "\n",
    "land_class[land_class.Region == 'VI'].iloc[0,1:].values\n",
    "\n",
    "vi = pd.DataFrame(columns = ['Date', 'Estimated_fire_area',\n",
    "       'Mean_estimated_fire_brightness', 'Mean_estimated_fire_radiative_power'])\n",
    "vi[['Date', 'Estimated_fire_area',\n",
    "       'Mean_estimated_fire_brightness', 'Mean_estimated_fire_radiative_power']] = vi_wf[['Date', 'Estimated_fire_area',\n",
    "       'Mean_estimated_fire_brightness', 'Mean_estimated_fire_radiative_power']]\n",
    "\n",
    "vi[['Shrubs', 'Herbaceous vegetation',\n",
    "       'Cultivated and managed vegetation/agriculture (cropland)',\n",
    "       'Urban / built up', 'Bare / sparse vegetation',\n",
    "       'Permanent water bodies', 'Herbaceous wetland',\n",
    "       'Closed forest, evergreen, broad leaf',\n",
    "       'Closed forest, deciduous broad leaf', 'Closed forest, unknown',\n",
    "       'Open forest, evergreen broad leaf',\n",
    "       'Open forest, deciduous broad leaf', 'Open forest, unknown definitions',\n",
    "       'Open sea']] = land_class[land_class.Region == 'VI'].iloc[0,1:].values\n",
    "\n",
    "vi['Date'] = vi['Date'].apply(lambda x: pd.to_datetime(x))\n",
    "vi_weather['Date'] = vi_weather['Date'].apply(lambda x: pd.to_datetime(x))\n",
    "vi = pd.merge(vi,vi_weather,how = 'left',on = 'Date')\n",
    "vi = pd.merge(vi,vi_vi,how = 'left',on = 'Date')\n",
    "\n",
    "vi.fillna(method = 'ffill',inplace = True)\n",
    "vi.fillna(method = 'bfill',inplace = True)\n",
    "\n",
    "vi.to_csv(\"Region_VI.csv\")"
   ]
  },
  {
   "cell_type": "code",
   "execution_count": 138,
   "id": "b5f9077b",
   "metadata": {},
   "outputs": [
    {
     "data": {
      "text/plain": [
       "(2189, (2189, 33))"
      ]
     },
     "execution_count": 138,
     "metadata": {},
     "output_type": "execute_result"
    }
   ],
   "source": [
    "vi['Date'].nunique(),vi.shape"
   ]
  },
  {
   "cell_type": "markdown",
   "id": "83c35640",
   "metadata": {},
   "source": [
    "## Extracting Region WA Data"
   ]
  },
  {
   "cell_type": "code",
   "execution_count": 129,
   "id": "3c5e89be",
   "metadata": {},
   "outputs": [],
   "source": [
    "wa_wf = hist_wf[hist_wf.Region == 'WA']\n",
    "wa_w = hist_w[hist_w.Region == 'WA']\n",
    "\n",
    "wa_weather = pd.DataFrame(columns = [\"Date\",\"Precipitation_max\",\"Precipitation_mean\",\"RelativeHumidity_max\",\"RelativeHumidity_mean\",\n",
    "                                     \"SoilWaterContent_max\",\"SoilWaterContent_mean\",\"SolarRadiation_max\",\"SolarRadiation_mean\",\n",
    "                                     \"Temperature_min\",\"Temperature_max\",\"Temperature_mean\",\"WindSpeed_min\",\"WindSpeed_max\",\n",
    "                                      \"WindSpeed_mean\"])\n",
    "\n",
    "wa_weather[['Date',\"Precipitation_max\",\"Precipitation_mean\"]] = pd.DataFrame(np.array(wa_w[wa_w.Parameter == 'Precipitation'][['Date','max()','mean()']]))\n",
    "wa_weather[[\"RelativeHumidity_max\",\"RelativeHumidity_mean\"]] = pd.DataFrame(np.array(wa_w[wa_w.Parameter == 'RelativeHumidity'][['max()','mean()']]))\n",
    "wa_weather[[\"SoilWaterContent_max\",\"SoilWaterContent_mean\"]] = pd.DataFrame(np.array(wa_w[wa_w.Parameter == 'SoilWaterContent'][['max()','mean()']]))\n",
    "wa_weather[[\"SolarRadiation_max\",\"SolarRadiation_mean\"]] = pd.DataFrame(np.array(wa_w[wa_w.Parameter == 'SolarRadiation'][['max()','mean()']]))\n",
    "wa_weather[[\"Temperature_min\",\"Temperature_max\",\"Temperature_mean\"]] = pd.DataFrame(np.array(wa_w[wa_w.Parameter == 'Temperature'][['min()','max()','mean()']]))\n",
    "wa_weather[[\"WindSpeed_min\",\"WindSpeed_max\",\"WindSpeed_mean\"]] = pd.DataFrame(np.array(wa_w[wa_w.Parameter == 'WindSpeed'][['min()','max()','mean()']]))\n",
    "wa_weather.fillna(method = 'ffill',inplace = True)\n",
    "\n",
    "wa_vi = hist_vi[hist_vi.Region == 'WA']\n",
    "wa_vi = wa_vi[['Date','Vegetation_index_mean']]\n",
    "wa_vi['Date'] = wa_vi['Date'].apply(lambda x: pd.to_datetime(x))\n",
    "\n",
    "land_class[land_class.Region == 'WA'].iloc[0,1:].values\n",
    "\n",
    "wa = pd.DataFrame(columns = ['Date', 'Estimated_fire_area',\n",
    "       'Mean_estimated_fire_brightness', 'Mean_estimated_fire_radiative_power'])\n",
    "wa[['Date', 'Estimated_fire_area',\n",
    "       'Mean_estimated_fire_brightness', 'Mean_estimated_fire_radiative_power']] = wa_wf[['Date', 'Estimated_fire_area',\n",
    "       'Mean_estimated_fire_brightness', 'Mean_estimated_fire_radiative_power']]\n",
    "\n",
    "wa[['Shrubs', 'Herbaceous vegetation',\n",
    "       'Cultivated and managed vegetation/agriculture (cropland)',\n",
    "       'Urban / built up', 'Bare / sparse vegetation',\n",
    "       'Permanent water bodies', 'Herbaceous wetland',\n",
    "       'Closed forest, evergreen, broad leaf',\n",
    "       'Closed forest, deciduous broad leaf', 'Closed forest, unknown',\n",
    "       'Open forest, evergreen broad leaf',\n",
    "       'Open forest, deciduous broad leaf', 'Open forest, unknown definitions',\n",
    "       'Open sea']] = land_class[land_class.Region == 'WA'].iloc[0,1:].values\n",
    "\n",
    "wa['Date'] = wa['Date'].apply(lambda x: pd.to_datetime(x))\n",
    "wa_weather['Date'] = wa_weather['Date'].apply(lambda x: pd.to_datetime(x))\n",
    "wa = pd.merge(wa,wa_weather,how = 'left',on = 'Date')\n",
    "wa = pd.merge(wa,wa_vi,how = 'left',on = 'Date')\n",
    "\n",
    "wa.fillna(method = 'ffill',inplace = True)\n",
    "wa.fillna(method = 'bfill',inplace = True)\n",
    "\n",
    "wa.to_csv(\"Region_WA.csv\")"
   ]
  },
  {
   "cell_type": "code",
   "execution_count": 139,
   "id": "28885090",
   "metadata": {},
   "outputs": [
    {
     "data": {
      "text/plain": [
       "(5693, (5693, 33))"
      ]
     },
     "execution_count": 139,
     "metadata": {},
     "output_type": "execute_result"
    }
   ],
   "source": [
    "wa['Date'].nunique(),wa.shape"
   ]
  }
 ],
 "metadata": {
  "kernelspec": {
   "display_name": "Python 3",
   "language": "python",
   "name": "python3"
  },
  "language_info": {
   "codemirror_mode": {
    "name": "ipython",
    "version": 3
   },
   "file_extension": ".py",
   "mimetype": "text/x-python",
   "name": "python",
   "nbconvert_exporter": "python",
   "pygments_lexer": "ipython3",
   "version": "3.8.8"
  }
 },
 "nbformat": 4,
 "nbformat_minor": 5
}
