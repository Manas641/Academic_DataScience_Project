{
 "cells": [
  {
   "cell_type": "code",
   "execution_count": 3,
   "id": "9ba02a1d",
   "metadata": {},
   "outputs": [],
   "source": [
    "import numpy as np\n",
    "import pandas as pd\n",
    "import matplotlib.pyplot as plt"
   ]
  },
  {
   "cell_type": "code",
   "execution_count": 5,
   "id": "b5a60c06",
   "metadata": {},
   "outputs": [],
   "source": [
    "reg_nsw = pd.read_csv(\"Region_NSW.csv\")\n",
    "reg_nt = pd.read_csv('Region_NT.csv')\n",
    "reg_ql = pd.read_csv(\"Region_QL.csv\")\n",
    "reg_sa = pd.read_csv(\"Region_SA.csv\")\n",
    "reg_ta = pd.read_csv(\"region_TA.csv\")\n",
    "reg_vi = pd.read_csv(\"Region_VI.csv\")\n",
    "reg_wa = pd.read_csv(\"Region_WA.csv\")\n",
    "\n",
    "reg_nsw['State'] = 'NSW'\n",
    "reg_nt['State'] = 'NT'\n",
    "reg_ql['State'] = 'QL'\n",
    "reg_sa['State'] = 'SA'\n",
    "reg_ta['State'] = 'TA'\n",
    "reg_vi['State'] = 'VI'\n",
    "reg_wa['State'] = 'WA'\n",
    "\n",
    "final = pd.DataFrame(columns = reg_nsw.columns)\n",
    "\n",
    "final = final.append(reg_nsw,ignore_index = True)\n",
    "final = final.append(reg_nt,ignore_index = True)\n",
    "final = final.append(reg_ql,ignore_index = True)\n",
    "final = final.append(reg_sa,ignore_index = True)\n",
    "final = final.append(reg_ta,ignore_index = True)\n",
    "final = final.append(reg_vi,ignore_index = True)\n",
    "final = final.append(reg_wa,ignore_index = True)"
   ]
  },
  {
   "cell_type": "code",
   "execution_count": 6,
   "id": "92add028",
   "metadata": {},
   "outputs": [
    {
     "data": {
      "text/plain": [
       "(26663, 35)"
      ]
     },
     "execution_count": 6,
     "metadata": {},
     "output_type": "execute_result"
    }
   ],
   "source": [
    "final.shape"
   ]
  },
  {
   "cell_type": "code",
   "execution_count": 7,
   "id": "61aa2a16",
   "metadata": {},
   "outputs": [
    {
     "data": {
      "text/plain": [
       "Index(['Unnamed: 0', 'Date', 'Estimated_fire_area',\n",
       "       'Mean_estimated_fire_brightness', 'Mean_estimated_fire_radiative_power',\n",
       "       'Shrubs', 'Herbaceous vegetation',\n",
       "       'Cultivated and managed vegetation/agriculture (cropland)',\n",
       "       'Urban / built up', 'Bare / sparse vegetation',\n",
       "       'Permanent water bodies', 'Herbaceous wetland',\n",
       "       'Closed forest, evergreen, broad leaf',\n",
       "       'Closed forest, deciduous broad leaf', 'Closed forest, unknown',\n",
       "       'Open forest, evergreen broad leaf',\n",
       "       'Open forest, deciduous broad leaf', 'Open forest, unknown definitions',\n",
       "       'Open sea', 'Precipitation_max', 'Precipitation_mean',\n",
       "       'RelativeHumidity_max', 'RelativeHumidity_mean', 'SoilWaterContent_max',\n",
       "       'SoilWaterContent_mean', 'SolarRadiation_max', 'SolarRadiation_mean',\n",
       "       'Temperature_min', 'Temperature_max', 'Temperature_mean',\n",
       "       'WindSpeed_min', 'WindSpeed_max', 'WindSpeed_mean',\n",
       "       'Vegetation_index_mean', 'State'],\n",
       "      dtype='object')"
      ]
     },
     "execution_count": 7,
     "metadata": {},
     "output_type": "execute_result"
    }
   ],
   "source": [
    "final.columns"
   ]
  }
 ],
 "metadata": {
  "kernelspec": {
   "display_name": "Python 3",
   "language": "python",
   "name": "python3"
  },
  "language_info": {
   "codemirror_mode": {
    "name": "ipython",
    "version": 3
   },
   "file_extension": ".py",
   "mimetype": "text/x-python",
   "name": "python",
   "nbconvert_exporter": "python",
   "pygments_lexer": "ipython3",
   "version": "3.8.8"
  }
 },
 "nbformat": 4,
 "nbformat_minor": 5
}
